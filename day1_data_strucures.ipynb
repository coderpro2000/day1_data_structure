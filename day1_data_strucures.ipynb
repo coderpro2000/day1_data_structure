{
 "cells": [
  {
   "cell_type": "code",
   "execution_count": null,
   "metadata": {},
   "outputs": [],
   "source": [
    "Hello friends welcome back somay/coder program lets start with data structure.\n",
    "\n",
    "what is data structure?\n",
    "The data structure is name indicates itself that organizing the data in the memory. There are many ways of organizing the data\n",
    "in the memory as we already see one of the data structures.\n",
    "\n",
    "They are two types of data structure:\n",
    "Primitive data structure- the int , char , float double pointer are primtive data structures that can hold a single value.\n",
    "\n",
    "Non primitive data structures: it is divided by two types\n",
    "linear data structure: the arrangement of data in a sequential manner is known as linear data structures. the data srructure\n",
    "used for this purpose array, linkedlist , stack, queue.\n",
    "    \n",
    "Non linear data structure: when one element connected a N no. of elements it is called non linear data srtuctures. it is used\n",
    "for tree, graph.\n",
    "    \n",
    "\n",
    "Major opeeration of data strucure:\n",
    "searching: for searchg the elements.\n",
    "sorting: for sort the elements,\n",
    "insertion: for insert the elements.\n",
    "deletion: for delete the elements.\n",
    "merging: for merge the elements.\n",
    "traversing: for traverse the lements\n",
    "    \n",
    "Advantage of data structure:\n",
    "1.effciency: if the choice of a data structure  for implmenting a particular ADT is proper.\n",
    "2.reuseability: he data structure provide reuseability means that multiple clients program can use the data structure.\n",
    "3.abstraction: The data structure specified by an ADT specfied by an ADT also provides the level of abstraction.\n",
    "\n",
    "    \n",
    "    "
   ]
  }
 ],
 "metadata": {
  "kernelspec": {
   "display_name": "Python 3",
   "language": "python",
   "name": "python3"
  },
  "language_info": {
   "codemirror_mode": {
    "name": "ipython",
    "version": 3
   },
   "file_extension": ".py",
   "mimetype": "text/x-python",
   "name": "python",
   "nbconvert_exporter": "python",
   "pygments_lexer": "ipython3",
   "version": "3.7.6"
  }
 },
 "nbformat": 4,
 "nbformat_minor": 4
}
